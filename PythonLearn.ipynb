{
 "cells": [
  {
   "cell_type": "code",
   "execution_count": null,
   "id": "eb8cacfa-2bfd-4b79-b3a1-24786c04fc66",
   "metadata": {},
   "outputs": [],
   "source": [
    "#basic output"
   ]
  },
  {
   "cell_type": "code",
   "execution_count": 2,
   "id": "33ba9f39-56a0-4b44-8fa1-9b5dd77d0bf9",
   "metadata": {},
   "outputs": [
    {
     "name": "stdout",
     "output_type": "stream",
     "text": [
      "Hello World\n"
     ]
    }
   ],
   "source": [
    "print(\"Hello World\")"
   ]
  },
  {
   "cell_type": "code",
   "execution_count": null,
   "id": "54bae89c-c978-4558-8709-832cc54dc97f",
   "metadata": {},
   "outputs": [],
   "source": [
    "##insert a variable into a String"
   ]
  },
  {
   "cell_type": "code",
   "execution_count": 1,
   "id": "a5283cfb-2ca4-456d-bc71-a57034ada044",
   "metadata": {},
   "outputs": [
    {
     "name": "stdin",
     "output_type": "stream",
     "text": [
      "what is your name?  Mishari\n"
     ]
    },
    {
     "name": "stdout",
     "output_type": "stream",
     "text": [
      "Hello, Mishari!\n"
     ]
    }
   ],
   "source": [
    "\n",
    "person = input(\"what is your name? \")\n",
    "message = \"Hello, {}!\".format(person)\n",
    "print(message)"
   ]
  },
  {
   "cell_type": "code",
   "execution_count": null,
   "id": "f8f9b527-6128-4466-987b-1d2a87ece782",
   "metadata": {},
   "outputs": [],
   "source": [
    "## Multiline Strings and String Length"
   ]
  },
  {
   "cell_type": "code",
   "execution_count": 1,
   "id": "c4c6c89c-66f5-4faa-a0c0-fc1c3ffe7d8a",
   "metadata": {},
   "outputs": [
    {
     "name": "stdout",
     "output_type": "stream",
     "text": [
      "once upon a time\n",
      "there live a bear family\n",
      "who ate delicious pizza\n",
      "65\n"
     ]
    }
   ],
   "source": [
    "story =\"\"\"once upon a time\n",
    "there live a bear family\n",
    "who ate delicious pizza\"\"\"\n",
    "print(story)\n",
    "print(len(story))"
   ]
  },
  {
   "cell_type": "code",
   "execution_count": null,
   "id": "7a1aa009-f783-47cd-8a5a-27938c7338e1",
   "metadata": {},
   "outputs": [],
   "source": [
    "##Math Operations"
   ]
  },
  {
   "cell_type": "code",
   "execution_count": 4,
   "id": "190c06a2-fb3a-4eb8-827a-2eb90435dd10",
   "metadata": {},
   "outputs": [
    {
     "name": "stdout",
     "output_type": "stream",
     "text": [
      "5.25\n",
      "1\n"
     ]
    }
   ],
   "source": [
    "x = 7\n",
    "y = 4\n",
    "z = ( x * 3 ) / y\n",
    "m = ( x * 3 ) % y #module return the reminder\n",
    "print(z)\n",
    "print(m)\n"
   ]
  },
  {
   "cell_type": "code",
   "execution_count": null,
   "id": "82acc683-9380-4af9-9be9-b645ec59d746",
   "metadata": {},
   "outputs": [],
   "source": [
    "## Lists (Arrays)"
   ]
  },
  {
   "cell_type": "code",
   "execution_count": 5,
   "id": "be9073e6-e520-4eaf-9cc0-f38a266fbe4b",
   "metadata": {},
   "outputs": [
    {
     "name": "stdout",
     "output_type": "stream",
     "text": [
      "Rachel\n"
     ]
    }
   ],
   "source": [
    "friends = ['Monica', 'Phoebe', 'Rachel', 'Chandler', 'Joy', 'Ross']\n",
    "print(friends[2])\n"
   ]
  },
  {
   "cell_type": "code",
   "execution_count": null,
   "id": "75f98cf6-d5f3-455b-bb55-8a93f27e0e35",
   "metadata": {},
   "outputs": [],
   "source": []
  }
 ],
 "metadata": {
  "kernelspec": {
   "display_name": "Python [conda env:base] *",
   "language": "python",
   "name": "conda-base-py"
  },
  "language_info": {
   "codemirror_mode": {
    "name": "ipython",
    "version": 3
   },
   "file_extension": ".py",
   "mimetype": "text/x-python",
   "name": "python",
   "nbconvert_exporter": "python",
   "pygments_lexer": "ipython3",
   "version": "3.13.5"
  }
 },
 "nbformat": 4,
 "nbformat_minor": 5
}
